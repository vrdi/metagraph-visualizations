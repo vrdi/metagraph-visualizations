{
 "cells": [
  {
   "cell_type": "code",
   "execution_count": 1,
   "metadata": {},
   "outputs": [],
   "source": [
    "import networkx as nx\n",
    "import numpy as np"
   ]
  },
  {
   "cell_type": "code",
   "execution_count": 41,
   "metadata": {},
   "outputs": [],
   "source": [
    "## Returns True if the arrays representing the two partitions are adjacent by a swap and false otherwise\n",
    "def is_adjacent(part1, part2):\n",
    "    values = set(part1)\n",
    "    parts1 = np.array(list(map(lambda v: np.ma.masked_equal(part1, v).mask, values)))\n",
    "    parts2 = np.array(list(map(lambda v: np.ma.masked_equal(part2, v).mask, values)))\n",
    "    \n",
    "    num_diff_1 = 0\n",
    "    num_diff_2 = 0\n",
    "    diff_part1 = []\n",
    "    diff_part2 = []\n",
    "    \n",
    "    is_in = lambda row, matrix: np.equal(row, parts2).all(axis=1).any()\n",
    "    \n",
    "    for i in range(parts1.shape[0]):\n",
    "        if not np.equal(parts1[i], parts2).all(axis=1).any():\n",
    "            num_diff_1 += 1\n",
    "            diff_part1.append(parts1[i])\n",
    "        if not np.equal(parts2[i], parts1).all(axis=1).any():\n",
    "            num_diff_2 += 1\n",
    "            diff_part2.append(parts2[i])\n",
    "            \n",
    "    if num_diff_1 != 2 and num_diff_2 != 2:\n",
    "        return False\n",
    "    else:\n",
    "        pass\n",
    "            "
   ]
  },
  {
   "cell_type": "code",
   "execution_count": 42,
   "metadata": {},
   "outputs": [],
   "source": [
    "def adjacent_nodes(nodes):\n",
    "    edges = []\n",
    "    for i in nodes.keys():\n",
    "        for j in nodes.keys():\n",
    "            if i < j and is_adjacent(nodes[i], nodes[j]):\n",
    "                edges.append((i, j))\n",
    "    return edges"
   ]
  },
  {
   "cell_type": "code",
   "execution_count": 6,
   "metadata": {},
   "outputs": [],
   "source": [
    "with open(\"enums/enum_[3,3]_[3]_3_rc.txt\") as file:\n",
    "    nodes={}\n",
    "    for i, line in enumerate(file):\n",
    "        nodes[i] = np.fromstring(line, dtype=int, sep=',')\n",
    "    "
   ]
  },
  {
   "cell_type": "code",
   "execution_count": 7,
   "metadata": {},
   "outputs": [
    {
     "data": {
      "text/plain": [
       "{0: array([1, 2, 2, 1, 2, 3, 1, 3, 3]),\n",
       " 1: array([1, 2, 3, 1, 2, 3, 1, 2, 3]),\n",
       " 2: array([1, 2, 2, 1, 3, 2, 1, 3, 3]),\n",
       " 3: array([1, 2, 2, 1, 1, 2, 3, 3, 3]),\n",
       " 4: array([1, 1, 2, 1, 2, 2, 3, 3, 3]),\n",
       " 5: array([1, 1, 2, 1, 3, 2, 3, 3, 2]),\n",
       " 6: array([1, 1, 1, 2, 3, 3, 2, 2, 3]),\n",
       " 7: array([1, 1, 1, 2, 2, 3, 2, 3, 3]),\n",
       " 8: array([1, 1, 1, 2, 2, 2, 3, 3, 3]),\n",
       " 9: array([1, 1, 2, 3, 1, 2, 3, 3, 2])}"
      ]
     },
     "execution_count": 7,
     "metadata": {},
     "output_type": "execute_result"
    }
   ],
   "source": [
    "nodes"
   ]
  },
  {
   "cell_type": "code",
   "execution_count": 43,
   "metadata": {},
   "outputs": [
    {
     "data": {
      "text/plain": [
       "[]"
      ]
     },
     "execution_count": 43,
     "metadata": {},
     "output_type": "execute_result"
    }
   ],
   "source": [
    "adjacent_nodes(nodes)"
   ]
  },
  {
   "cell_type": "code",
   "execution_count": 50,
   "metadata": {},
   "outputs": [
    {
     "data": {
      "text/plain": [
       "False"
      ]
     },
     "execution_count": 50,
     "metadata": {},
     "output_type": "execute_result"
    }
   ],
   "source": [
    "is_adjacent(nodes[0], nodes[8])"
   ]
  },
  {
   "cell_type": "code",
   "execution_count": 13,
   "metadata": {},
   "outputs": [
    {
     "data": {
      "text/plain": [
       "array([1, 2, 2, 1, 2, 3, 1, 3, 3])"
      ]
     },
     "execution_count": 13,
     "metadata": {},
     "output_type": "execute_result"
    }
   ],
   "source": [
    "a = nodes[0]\n",
    "a"
   ]
  },
  {
   "cell_type": "code",
   "execution_count": 14,
   "metadata": {},
   "outputs": [],
   "source": [
    "d1 = np.ma.masked_equal(a, 1).mask\n",
    "d2 = np.ma.masked_equal(a, 2).mask\n",
    "d3 = np.ma.masked_equal(a, 3).mask"
   ]
  },
  {
   "cell_type": "code",
   "execution_count": 34,
   "metadata": {},
   "outputs": [
    {
     "data": {
      "text/plain": [
       "(2, 9)"
      ]
     },
     "execution_count": 34,
     "metadata": {},
     "output_type": "execute_result"
    }
   ],
   "source": [
    "np.array([d2, d3]).shape"
   ]
  },
  {
   "cell_type": "code",
   "execution_count": 30,
   "metadata": {},
   "outputs": [
    {
     "data": {
      "text/plain": [
       "True"
      ]
     },
     "execution_count": 30,
     "metadata": {},
     "output_type": "execute_result"
    }
   ],
   "source": [
    "np.equal(d1, np.array([d1,d2, d3])).all(axis=1).any()"
   ]
  },
  {
   "cell_type": "code",
   "execution_count": null,
   "metadata": {},
   "outputs": [],
   "source": []
  }
 ],
 "metadata": {
  "kernelspec": {
   "display_name": "Python 3",
   "language": "python",
   "name": "python3"
  },
  "language_info": {
   "codemirror_mode": {
    "name": "ipython",
    "version": 3
   },
   "file_extension": ".py",
   "mimetype": "text/x-python",
   "name": "python",
   "nbconvert_exporter": "python",
   "pygments_lexer": "ipython3",
   "version": "3.6.7"
  }
 },
 "nbformat": 4,
 "nbformat_minor": 2
}
