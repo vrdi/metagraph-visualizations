{
 "cells": [
  {
   "cell_type": "code",
   "execution_count": 75,
   "metadata": {},
   "outputs": [],
   "source": [
    "import networkx as nx\n",
    "import numpy as np\n",
    "import matplotlib.pyplot as plt"
   ]
  },
  {
   "cell_type": "code",
   "execution_count": 65,
   "metadata": {},
   "outputs": [],
   "source": [
    "## Returns True if the arrays representing the two partitions are adjacent by a swap and false otherwise\n",
    "def is_adjacent(part1, part2):\n",
    "    values = set(part1)\n",
    "    parts1 = np.array(list(map(lambda v: np.ma.masked_equal(part1, v).mask, values)))\n",
    "    parts2 = np.array(list(map(lambda v: np.ma.masked_equal(part2, v).mask, values)))\n",
    "    \n",
    "    num_diff_1 = 0\n",
    "    num_diff_2 = 0\n",
    "    diff_part1 = []\n",
    "    diff_part2 = []\n",
    "    \n",
    "    is_in = lambda row, matrix: np.equal(row, parts2).all(axis=1).any()\n",
    "    \n",
    "    for i in range(parts1.shape[0]):\n",
    "        if not np.equal(parts1[i], parts2).all(axis=1).any():\n",
    "            num_diff_1 += 1\n",
    "            diff_part1.append(parts1[i])\n",
    "        if not np.equal(parts2[i], parts1).all(axis=1).any():\n",
    "            num_diff_2 += 1\n",
    "            diff_part2.append(parts2[i])\n",
    "            \n",
    "    if num_diff_1 != 2 and num_diff_2 != 2:\n",
    "        return False\n",
    "    else:\n",
    "        swaps = sum(diff_part1[0] ^ diff_part2[0])\n",
    "        return swaps == 2 or swaps == (len(values)*2 - 2)\n",
    "            "
   ]
  },
  {
   "cell_type": "code",
   "execution_count": 66,
   "metadata": {},
   "outputs": [],
   "source": [
    "def adjacent_nodes(nodes):\n",
    "    edges = []\n",
    "    for i in nodes.keys():\n",
    "        for j in nodes.keys():\n",
    "            if i < j and is_adjacent(nodes[i], nodes[j]):\n",
    "                edges.append((i, j))\n",
    "    return edges"
   ]
  },
  {
   "cell_type": "code",
   "execution_count": 6,
   "metadata": {},
   "outputs": [],
   "source": [
    "with open(\"enums/enum_[3,3]_[3]_3_rc.txt\") as file:\n",
    "    nodes={}\n",
    "    for i, line in enumerate(file):\n",
    "        nodes[i] = np.fromstring(line, dtype=int, sep=',')\n",
    "    "
   ]
  },
  {
   "cell_type": "code",
   "execution_count": 7,
   "metadata": {},
   "outputs": [
    {
     "data": {
      "text/plain": [
       "{0: array([1, 2, 2, 1, 2, 3, 1, 3, 3]),\n",
       " 1: array([1, 2, 3, 1, 2, 3, 1, 2, 3]),\n",
       " 2: array([1, 2, 2, 1, 3, 2, 1, 3, 3]),\n",
       " 3: array([1, 2, 2, 1, 1, 2, 3, 3, 3]),\n",
       " 4: array([1, 1, 2, 1, 2, 2, 3, 3, 3]),\n",
       " 5: array([1, 1, 2, 1, 3, 2, 3, 3, 2]),\n",
       " 6: array([1, 1, 1, 2, 3, 3, 2, 2, 3]),\n",
       " 7: array([1, 1, 1, 2, 2, 3, 2, 3, 3]),\n",
       " 8: array([1, 1, 1, 2, 2, 2, 3, 3, 3]),\n",
       " 9: array([1, 1, 2, 3, 1, 2, 3, 3, 2])}"
      ]
     },
     "execution_count": 7,
     "metadata": {},
     "output_type": "execute_result"
    }
   ],
   "source": [
    "nodes"
   ]
  },
  {
   "cell_type": "code",
   "execution_count": 69,
   "metadata": {},
   "outputs": [
    {
     "data": {
      "text/plain": [
       "[(0, 1),\n",
       " (0, 2),\n",
       " (0, 7),\n",
       " (1, 2),\n",
       " (1, 5),\n",
       " (1, 9),\n",
       " (2, 3),\n",
       " (3, 4),\n",
       " (3, 8),\n",
       " (4, 5),\n",
       " (4, 8),\n",
       " (5, 9),\n",
       " (6, 7),\n",
       " (6, 8),\n",
       " (6, 9),\n",
       " (7, 8)]"
      ]
     },
     "execution_count": 69,
     "metadata": {},
     "output_type": "execute_result"
    }
   ],
   "source": [
    "adjacent_nodes(nodes)"
   ]
  },
  {
   "cell_type": "code",
   "execution_count": 70,
   "metadata": {},
   "outputs": [],
   "source": [
    "graph = nx.Graph()\n",
    "graph.add_edges_from(adjacent_nodes(nodes))"
   ]
  },
  {
   "cell_type": "code",
   "execution_count": 76,
   "metadata": {
    "scrolled": false
   },
   "outputs": [
    {
     "data": {
      "image/png": "[encoded data removed]",
      "text/plain": [
       "<Figure size 432x288 with 1 Axes>"
      ]
     },
     "metadata": {},
     "output_type": "display_data"
    }
   ],
   "source": [
    "nx.draw(graph)\n",
    "plt.show()"
   ]
  },
  {
   "cell_type": "code",
   "execution_count": 88,
   "metadata": {},
   "outputs": [],
   "source": [
    "degrees = list(map(lambda n: nx.degree(graph,n), graph.nodes()))"
   ]
  },
  {
   "cell_type": "code",
   "execution_count": 90,
   "metadata": {},
   "outputs": [
    {
     "name": "stdout",
     "output_type": "stream",
     "text": [
      "Max Degree: 4\n",
      "Mim Degree: 3\n"
     ]
    }
   ],
   "source": [
    "print(\"Max Degree:\", max(degrees))\n",
    "print(\"Mim Degree:\", min(degrees))"
   ]
  },
  {
   "cell_type": "code",
   "execution_count": 91,
   "metadata": {},
   "outputs": [
    {
     "data": {
      "text/plain": [
       "3"
      ]
     },
     "execution_count": 91,
     "metadata": {},
     "output_type": "execute_result"
    }
   ],
   "source": [
    "nx.radius(graph)"
   ]
  },
  {
   "cell_type": "code",
   "execution_count": 92,
   "metadata": {},
   "outputs": [
    {
     "data": {
      "text/plain": [
       "3"
      ]
     },
     "execution_count": 92,
     "metadata": {},
     "output_type": "execute_result"
    }
   ],
   "source": [
    "nx.diameter(graph)"
   ]
  },
  {
   "cell_type": "code",
   "execution_count": 93,
   "metadata": {},
   "outputs": [],
   "source": [
    "with open(\"enums/enum_[4,4]_[4]_4_rc.txt\") as file:\n",
    "    nodes_4_4={}\n",
    "    for i, line in enumerate(file):\n",
    "        nodes_4_4[i] = np.fromstring(line, dtype=int, sep=',')\n",
    "    "
   ]
  },
  {
   "cell_type": "code",
   "execution_count": 96,
   "metadata": {},
   "outputs": [],
   "source": [
    "edges_4_4 = adjacent_nodes(nodes_4_4)"
   ]
  },
  {
   "cell_type": "code",
   "execution_count": 99,
   "metadata": {},
   "outputs": [],
   "source": [
    "graph_4_4 = nx.Graph()\n",
    "graph_4_4.add_edges_from(edges_4_4)"
   ]
  },
  {
   "cell_type": "code",
   "execution_count": 100,
   "metadata": {},
   "outputs": [],
   "source": [
    "degrees_4_4 = list(map(lambda n: nx.degree(graph_4_4,n), graph_4_4.nodes()))"
   ]
  },
  {
   "cell_type": "code",
   "execution_count": 101,
   "metadata": {},
   "outputs": [
    {
     "name": "stdout",
     "output_type": "stream",
     "text": [
      "Max Degree: 8\n",
      "Mim Degree: 3\n"
     ]
    }
   ],
   "source": [
    "print(\"Max Degree:\", max(degrees_4_4))\n",
    "print(\"Mim Degree:\", min(degrees_4_4))"
   ]
  },
  {
   "cell_type": "code",
   "execution_count": 102,
   "metadata": {},
   "outputs": [
    {
     "data": {
      "text/plain": [
       "8"
      ]
     },
     "execution_count": 102,
     "metadata": {},
     "output_type": "execute_result"
    }
   ],
   "source": [
    "nx.diameter(graph_4_4)"
   ]
  },
  {
   "cell_type": "code",
   "execution_count": null,
   "metadata": {},
   "outputs": [],
   "source": []
  }
 ],
 "metadata": {
  "kernelspec": {
   "display_name": "Python 3",
   "language": "python",
   "name": "python3"
  },
  "language_info": {
   "codemirror_mode": {
    "name": "ipython",
    "version": 3
   },
   "file_extension": ".py",
   "mimetype": "text/x-python",
   "name": "python",
   "nbconvert_exporter": "python",
   "pygments_lexer": "ipython3",
   "version": "3.6.7"
  }
 },
 "nbformat": 4,
 "nbformat_minor": 2
}
